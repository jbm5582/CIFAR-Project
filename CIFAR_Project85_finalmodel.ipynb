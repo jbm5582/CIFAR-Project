{
  "nbformat": 4,
  "nbformat_minor": 0,
  "metadata": {
    "colab": {
      "name": "CIFAR_Project85_finalmodel.ipynb",
      "provenance": [],
      "collapsed_sections": []
    },
    "kernelspec": {
      "name": "python3",
      "display_name": "Python 3"
    },
    "accelerator": "GPU"
  },
  "cells": [
    {
      "cell_type": "code",
      "metadata": {
        "id": "7pkHkkFnZW-N"
      },
      "source": [
        "import tensorflow as tf\r\n",
        "from tensorflow.keras import datasets, layers, models\r\n",
        "import matplotlib.pyplot as plt\r\n",
        "import keras\r\n",
        "from keras import callbacks"
      ],
      "execution_count": 1,
      "outputs": []
    },
    {
      "cell_type": "code",
      "metadata": {
        "colab": {
          "base_uri": "https://localhost:8080/"
        },
        "id": "Tu897HsfeETs",
        "outputId": "c6d69f0d-8959-4a84-f5ec-9e8a78535bb7"
      },
      "source": [
        "%tensorflow_version 2.x\r\n",
        "device_name = tf.test.gpu_device_name()\r\n",
        "if device_name != '/device:GPU:0':\r\n",
        "  raise SystemError('GPU device not found')\r\n",
        "print('Found GPU at: {}'.format(device_name))"
      ],
      "execution_count": 2,
      "outputs": [
        {
          "output_type": "stream",
          "text": [
            "Found GPU at: /device:GPU:0\n"
          ],
          "name": "stdout"
        }
      ]
    },
    {
      "cell_type": "code",
      "metadata": {
        "id": "BW5ODg0DZrwg"
      },
      "source": [
        "(train_images, train_labels), (test_images, test_labels) = datasets.cifar10.load_data()\r\n",
        "\r\n",
        "# Normalize pixel values to be between 0 and 1\r\n",
        "train_images, test_images = train_images / 255.0, test_images / 255.0"
      ],
      "execution_count": 3,
      "outputs": []
    },
    {
      "cell_type": "code",
      "metadata": {
        "colab": {
          "base_uri": "https://localhost:8080/"
        },
        "id": "l9n3t5wsZyre",
        "outputId": "b32be064-d911-4a48-e11b-5ab60a31c040"
      },
      "source": [
        "%%time\r\n",
        "model = models.Sequential()\r\n",
        "model.add(layers.Conv2D(256,(3,3), activation='elu', input_shape=(32, 32, 3), padding= 'same', kernel_initializer= 'he_uniform'))\r\n",
        "model.add(layers.BatchNormalization())\r\n",
        "model.add(layers.Conv2D(256, (3,3),activation='elu', padding= 'same',kernel_initializer= 'he_uniform'))\r\n",
        "model.add(layers.BatchNormalization())\r\n",
        "model.add(layers.Dropout(.2))\r\n",
        "model.add(layers.MaxPooling2D((2, 2)))\r\n",
        "\r\n",
        "model.add(layers.Conv2D(128, (3,3), activation='elu', padding='same',kernel_initializer= 'he_uniform'))\r\n",
        "model.add(layers.BatchNormalization())\r\n",
        "model.add(layers.Conv2D(128, (3,3),activation='elu', padding='same',kernel_initializer= 'he_uniform'))\r\n",
        "model.add(layers.BatchNormalization())\r\n",
        "model.add(layers.Dropout(.2))\r\n",
        "model.add(layers.MaxPooling2D((2,2)))\r\n",
        "\r\n",
        "model.add(layers.Conv2D(64, (3,3),activation='elu', padding = 'same',kernel_initializer= 'he_uniform'))\r\n",
        "model.add(layers.BatchNormalization())\r\n",
        "model.add(layers.Conv2D(64, (3,3), activation='elu', padding = 'same',kernel_initializer= 'he_uniform'))\r\n",
        "model.add(layers.BatchNormalization())\r\n",
        "model.add(layers.Dropout(.2))\r\n",
        "model.add(layers.MaxPooling2D((2,2)))\r\n",
        "\r\n",
        "model.add(layers.Conv2D(32, (3,3), activation='elu', padding='same',kernel_initializer= 'he_uniform'))\r\n",
        "model.add(layers.BatchNormalization())\r\n",
        "model.add(layers.Conv2D(32, (3,3),activation='elu', padding='same',kernel_initializer= 'he_uniform'))\r\n",
        "model.add(layers.BatchNormalization())\r\n",
        "model.add(layers.Dropout(.2))\r\n"
      ],
      "execution_count": 4,
      "outputs": [
        {
          "output_type": "stream",
          "text": [
            "CPU times: user 238 ms, sys: 9.88 ms, total: 247 ms\n",
            "Wall time: 254 ms\n"
          ],
          "name": "stdout"
        }
      ]
    },
    {
      "cell_type": "code",
      "metadata": {
        "colab": {
          "base_uri": "https://localhost:8080/"
        },
        "id": "_SWN5pQDcLMk",
        "outputId": "2d1da04f-2022-40ad-ecc6-cc529a8d211c"
      },
      "source": [
        "model.summary()"
      ],
      "execution_count": 5,
      "outputs": [
        {
          "output_type": "stream",
          "text": [
            "Model: \"sequential\"\n",
            "_________________________________________________________________\n",
            "Layer (type)                 Output Shape              Param #   \n",
            "=================================================================\n",
            "conv2d (Conv2D)              (None, 32, 32, 256)       7168      \n",
            "_________________________________________________________________\n",
            "batch_normalization (BatchNo (None, 32, 32, 256)       1024      \n",
            "_________________________________________________________________\n",
            "conv2d_1 (Conv2D)            (None, 32, 32, 256)       590080    \n",
            "_________________________________________________________________\n",
            "batch_normalization_1 (Batch (None, 32, 32, 256)       1024      \n",
            "_________________________________________________________________\n",
            "dropout (Dropout)            (None, 32, 32, 256)       0         \n",
            "_________________________________________________________________\n",
            "max_pooling2d (MaxPooling2D) (None, 16, 16, 256)       0         \n",
            "_________________________________________________________________\n",
            "conv2d_2 (Conv2D)            (None, 16, 16, 128)       295040    \n",
            "_________________________________________________________________\n",
            "batch_normalization_2 (Batch (None, 16, 16, 128)       512       \n",
            "_________________________________________________________________\n",
            "conv2d_3 (Conv2D)            (None, 16, 16, 128)       147584    \n",
            "_________________________________________________________________\n",
            "batch_normalization_3 (Batch (None, 16, 16, 128)       512       \n",
            "_________________________________________________________________\n",
            "dropout_1 (Dropout)          (None, 16, 16, 128)       0         \n",
            "_________________________________________________________________\n",
            "max_pooling2d_1 (MaxPooling2 (None, 8, 8, 128)         0         \n",
            "_________________________________________________________________\n",
            "conv2d_4 (Conv2D)            (None, 8, 8, 64)          73792     \n",
            "_________________________________________________________________\n",
            "batch_normalization_4 (Batch (None, 8, 8, 64)          256       \n",
            "_________________________________________________________________\n",
            "conv2d_5 (Conv2D)            (None, 8, 8, 64)          36928     \n",
            "_________________________________________________________________\n",
            "batch_normalization_5 (Batch (None, 8, 8, 64)          256       \n",
            "_________________________________________________________________\n",
            "dropout_2 (Dropout)          (None, 8, 8, 64)          0         \n",
            "_________________________________________________________________\n",
            "max_pooling2d_2 (MaxPooling2 (None, 4, 4, 64)          0         \n",
            "_________________________________________________________________\n",
            "conv2d_6 (Conv2D)            (None, 4, 4, 32)          18464     \n",
            "_________________________________________________________________\n",
            "batch_normalization_6 (Batch (None, 4, 4, 32)          128       \n",
            "_________________________________________________________________\n",
            "conv2d_7 (Conv2D)            (None, 4, 4, 32)          9248      \n",
            "_________________________________________________________________\n",
            "batch_normalization_7 (Batch (None, 4, 4, 32)          128       \n",
            "_________________________________________________________________\n",
            "dropout_3 (Dropout)          (None, 4, 4, 32)          0         \n",
            "=================================================================\n",
            "Total params: 1,182,144\n",
            "Trainable params: 1,180,224\n",
            "Non-trainable params: 1,920\n",
            "_________________________________________________________________\n"
          ],
          "name": "stdout"
        }
      ]
    },
    {
      "cell_type": "code",
      "metadata": {
        "id": "c2vbeVoVdw4l"
      },
      "source": [
        "model.add(layers.Flatten(input_shape = (8,8,128)))\r\n",
        "model.add(layers.Dense(64, activation= 'elu'))\r\n",
        "model.add(layers.BatchNormalization())\r\n",
        "model.add(layers.Dense(32, activation= 'elu'))\r\n",
        "model.add(layers.BatchNormalization())\r\n",
        "model.add(layers.Dense(16, activation= 'elu'))\r\n",
        "model.add(layers.BatchNormalization())\r\n",
        "#model.add(layers.Dense(256, activation= 'relu'))\r\n",
        "#model.add(layers.BatchNormalization())\r\n",
        "model.add(layers.Dense(10, activation= 'elu'))\r\n",
        "model.add(layers.Dropout(.2))"
      ],
      "execution_count": 6,
      "outputs": []
    },
    {
      "cell_type": "code",
      "metadata": {
        "colab": {
          "base_uri": "https://localhost:8080/"
        },
        "id": "azx6YDCpd4-R",
        "outputId": "18438d32-013d-4d38-e459-b986b63c9e3c"
      },
      "source": [
        "model.summary()"
      ],
      "execution_count": 7,
      "outputs": [
        {
          "output_type": "stream",
          "text": [
            "Model: \"sequential\"\n",
            "_________________________________________________________________\n",
            "Layer (type)                 Output Shape              Param #   \n",
            "=================================================================\n",
            "conv2d (Conv2D)              (None, 32, 32, 256)       7168      \n",
            "_________________________________________________________________\n",
            "batch_normalization (BatchNo (None, 32, 32, 256)       1024      \n",
            "_________________________________________________________________\n",
            "conv2d_1 (Conv2D)            (None, 32, 32, 256)       590080    \n",
            "_________________________________________________________________\n",
            "batch_normalization_1 (Batch (None, 32, 32, 256)       1024      \n",
            "_________________________________________________________________\n",
            "dropout (Dropout)            (None, 32, 32, 256)       0         \n",
            "_________________________________________________________________\n",
            "max_pooling2d (MaxPooling2D) (None, 16, 16, 256)       0         \n",
            "_________________________________________________________________\n",
            "conv2d_2 (Conv2D)            (None, 16, 16, 128)       295040    \n",
            "_________________________________________________________________\n",
            "batch_normalization_2 (Batch (None, 16, 16, 128)       512       \n",
            "_________________________________________________________________\n",
            "conv2d_3 (Conv2D)            (None, 16, 16, 128)       147584    \n",
            "_________________________________________________________________\n",
            "batch_normalization_3 (Batch (None, 16, 16, 128)       512       \n",
            "_________________________________________________________________\n",
            "dropout_1 (Dropout)          (None, 16, 16, 128)       0         \n",
            "_________________________________________________________________\n",
            "max_pooling2d_1 (MaxPooling2 (None, 8, 8, 128)         0         \n",
            "_________________________________________________________________\n",
            "conv2d_4 (Conv2D)            (None, 8, 8, 64)          73792     \n",
            "_________________________________________________________________\n",
            "batch_normalization_4 (Batch (None, 8, 8, 64)          256       \n",
            "_________________________________________________________________\n",
            "conv2d_5 (Conv2D)            (None, 8, 8, 64)          36928     \n",
            "_________________________________________________________________\n",
            "batch_normalization_5 (Batch (None, 8, 8, 64)          256       \n",
            "_________________________________________________________________\n",
            "dropout_2 (Dropout)          (None, 8, 8, 64)          0         \n",
            "_________________________________________________________________\n",
            "max_pooling2d_2 (MaxPooling2 (None, 4, 4, 64)          0         \n",
            "_________________________________________________________________\n",
            "conv2d_6 (Conv2D)            (None, 4, 4, 32)          18464     \n",
            "_________________________________________________________________\n",
            "batch_normalization_6 (Batch (None, 4, 4, 32)          128       \n",
            "_________________________________________________________________\n",
            "conv2d_7 (Conv2D)            (None, 4, 4, 32)          9248      \n",
            "_________________________________________________________________\n",
            "batch_normalization_7 (Batch (None, 4, 4, 32)          128       \n",
            "_________________________________________________________________\n",
            "dropout_3 (Dropout)          (None, 4, 4, 32)          0         \n",
            "_________________________________________________________________\n",
            "flatten (Flatten)            (None, 512)               0         \n",
            "_________________________________________________________________\n",
            "dense (Dense)                (None, 64)                32832     \n",
            "_________________________________________________________________\n",
            "batch_normalization_8 (Batch (None, 64)                256       \n",
            "_________________________________________________________________\n",
            "dense_1 (Dense)              (None, 32)                2080      \n",
            "_________________________________________________________________\n",
            "batch_normalization_9 (Batch (None, 32)                128       \n",
            "_________________________________________________________________\n",
            "dense_2 (Dense)              (None, 16)                528       \n",
            "_________________________________________________________________\n",
            "batch_normalization_10 (Batc (None, 16)                64        \n",
            "_________________________________________________________________\n",
            "dense_3 (Dense)              (None, 10)                170       \n",
            "_________________________________________________________________\n",
            "dropout_4 (Dropout)          (None, 10)                0         \n",
            "=================================================================\n",
            "Total params: 1,218,202\n",
            "Trainable params: 1,216,058\n",
            "Non-trainable params: 2,144\n",
            "_________________________________________________________________\n"
          ],
          "name": "stdout"
        }
      ]
    },
    {
      "cell_type": "code",
      "metadata": {
        "colab": {
          "base_uri": "https://localhost:8080/"
        },
        "id": "roEGDrBqeA6W",
        "outputId": "c2da124f-bca8-48ac-f448-60e717589a0a"
      },
      "source": [
        "%%time\r\n",
        "\r\n",
        "\r\n",
        "earlystopping = callbacks.EarlyStopping(monitor =\"val_loss\",  \r\n",
        "                                        mode =\"min\", patience = 5,  \r\n",
        "                                        restore_best_weights = True) \r\n",
        "model.compile(optimizer='adam',\r\n",
        "              loss=tf.keras.losses.SparseCategoricalCrossentropy(from_logits=True),\r\n",
        "              metrics=['accuracy'])\r\n",
        "\r\n",
        "history = model.fit(train_images, train_labels, epochs= 100, \r\n",
        "                    validation_data=(test_images, test_labels), callbacks = [earlystopping])"
      ],
      "execution_count": 8,
      "outputs": [
        {
          "output_type": "stream",
          "text": [
            "Epoch 1/100\n",
            "1563/1563 [==============================] - 50s 29ms/step - loss: 1.8098 - accuracy: 0.3626 - val_loss: 1.1452 - val_accuracy: 0.6189\n",
            "Epoch 2/100\n",
            "1563/1563 [==============================] - 45s 29ms/step - loss: 1.2446 - accuracy: 0.5778 - val_loss: 0.8400 - val_accuracy: 0.7421\n",
            "Epoch 3/100\n",
            "1563/1563 [==============================] - 45s 29ms/step - loss: 1.0607 - accuracy: 0.6411 - val_loss: 0.9111 - val_accuracy: 0.7114\n",
            "Epoch 4/100\n",
            "1563/1563 [==============================] - 46s 29ms/step - loss: 0.9617 - accuracy: 0.6771 - val_loss: 0.8351 - val_accuracy: 0.7344\n",
            "Epoch 5/100\n",
            "1563/1563 [==============================] - 46s 30ms/step - loss: 0.8644 - accuracy: 0.7104 - val_loss: 0.8062 - val_accuracy: 0.7483\n",
            "Epoch 6/100\n",
            "1563/1563 [==============================] - 46s 29ms/step - loss: 0.8168 - accuracy: 0.7272 - val_loss: 0.6494 - val_accuracy: 0.7981\n",
            "Epoch 7/100\n",
            "1563/1563 [==============================] - 46s 30ms/step - loss: 0.7573 - accuracy: 0.7488 - val_loss: 0.6608 - val_accuracy: 0.8015\n",
            "Epoch 8/100\n",
            "1563/1563 [==============================] - 47s 30ms/step - loss: 0.7057 - accuracy: 0.7646 - val_loss: 0.6396 - val_accuracy: 0.8066\n",
            "Epoch 9/100\n",
            "1563/1563 [==============================] - 46s 30ms/step - loss: 0.6874 - accuracy: 0.7695 - val_loss: 0.6122 - val_accuracy: 0.8153\n",
            "Epoch 10/100\n",
            "1563/1563 [==============================] - 46s 30ms/step - loss: 0.6452 - accuracy: 0.7862 - val_loss: 0.5862 - val_accuracy: 0.8219\n",
            "Epoch 11/100\n",
            "1563/1563 [==============================] - 46s 30ms/step - loss: 0.6442 - accuracy: 0.7862 - val_loss: 0.6705 - val_accuracy: 0.8034\n",
            "Epoch 12/100\n",
            "1563/1563 [==============================] - 46s 30ms/step - loss: 0.5894 - accuracy: 0.8028 - val_loss: 0.5818 - val_accuracy: 0.8275\n",
            "Epoch 13/100\n",
            "1563/1563 [==============================] - 46s 30ms/step - loss: 0.5902 - accuracy: 0.8036 - val_loss: 0.5914 - val_accuracy: 0.8261\n",
            "Epoch 14/100\n",
            "1563/1563 [==============================] - 46s 30ms/step - loss: 0.5726 - accuracy: 0.8099 - val_loss: 0.5743 - val_accuracy: 0.8346\n",
            "Epoch 15/100\n",
            "1563/1563 [==============================] - 46s 30ms/step - loss: 0.5579 - accuracy: 0.8120 - val_loss: 0.5611 - val_accuracy: 0.8345\n",
            "Epoch 16/100\n",
            "1563/1563 [==============================] - 46s 30ms/step - loss: 0.5407 - accuracy: 0.8216 - val_loss: 0.5574 - val_accuracy: 0.8372\n",
            "Epoch 17/100\n",
            "1563/1563 [==============================] - 46s 30ms/step - loss: 0.5263 - accuracy: 0.8231 - val_loss: 0.5543 - val_accuracy: 0.8373\n",
            "Epoch 18/100\n",
            "1563/1563 [==============================] - 46s 30ms/step - loss: 0.5170 - accuracy: 0.8262 - val_loss: 0.5589 - val_accuracy: 0.8372\n",
            "Epoch 19/100\n",
            "1563/1563 [==============================] - 46s 30ms/step - loss: 0.5136 - accuracy: 0.8272 - val_loss: 0.5689 - val_accuracy: 0.8382\n",
            "Epoch 20/100\n",
            "1563/1563 [==============================] - 46s 30ms/step - loss: 0.4841 - accuracy: 0.8383 - val_loss: 0.5357 - val_accuracy: 0.8498\n",
            "Epoch 21/100\n",
            "1563/1563 [==============================] - 46s 30ms/step - loss: 0.4774 - accuracy: 0.8401 - val_loss: 0.5600 - val_accuracy: 0.8476\n",
            "Epoch 22/100\n",
            "1563/1563 [==============================] - 46s 30ms/step - loss: 0.4864 - accuracy: 0.8354 - val_loss: 0.5651 - val_accuracy: 0.8407\n",
            "Epoch 23/100\n",
            "1563/1563 [==============================] - 46s 30ms/step - loss: 0.4695 - accuracy: 0.8391 - val_loss: 0.5455 - val_accuracy: 0.8478\n",
            "Epoch 24/100\n",
            "1563/1563 [==============================] - 46s 30ms/step - loss: 0.4779 - accuracy: 0.8406 - val_loss: 0.5103 - val_accuracy: 0.8545\n",
            "Epoch 25/100\n",
            "1563/1563 [==============================] - 46s 30ms/step - loss: 0.4515 - accuracy: 0.8480 - val_loss: 0.5239 - val_accuracy: 0.8544\n",
            "Epoch 26/100\n",
            "1563/1563 [==============================] - 46s 30ms/step - loss: 0.4470 - accuracy: 0.8498 - val_loss: 0.5733 - val_accuracy: 0.8413\n",
            "Epoch 27/100\n",
            "1563/1563 [==============================] - 46s 30ms/step - loss: 0.4526 - accuracy: 0.8511 - val_loss: 0.5415 - val_accuracy: 0.8523\n",
            "Epoch 28/100\n",
            "1563/1563 [==============================] - 46s 30ms/step - loss: 0.4478 - accuracy: 0.8476 - val_loss: 0.5509 - val_accuracy: 0.8498\n",
            "Epoch 29/100\n",
            "1563/1563 [==============================] - 46s 30ms/step - loss: 0.4511 - accuracy: 0.8479 - val_loss: 0.5924 - val_accuracy: 0.8396\n",
            "CPU times: user 13min 33s, sys: 4min 53s, total: 18min 27s\n",
            "Wall time: 22min 24s\n"
          ],
          "name": "stdout"
        }
      ]
    },
    {
      "cell_type": "code",
      "metadata": {
        "colab": {
          "base_uri": "https://localhost:8080/",
          "height": 302
        },
        "id": "b8yKR3_feC6g",
        "outputId": "d4ca8928-0bca-4f39-8e78-580d95e81d14"
      },
      "source": [
        "plt.plot(history.history['accuracy'], label='accuracy')\r\n",
        "plt.plot(history.history['val_accuracy'], label = 'val_accuracy')\r\n",
        "plt.xlabel('Epoch')\r\n",
        "plt.ylabel('Accuracy')\r\n",
        "plt.ylim([0.5, 1])\r\n",
        "plt.legend(loc='lower right')\r\n",
        "\r\n",
        "test_loss, test_acc = model.evaluate(test_images,  test_labels, verbose=2)"
      ],
      "execution_count": 9,
      "outputs": [
        {
          "output_type": "stream",
          "text": [
            "313/313 - 3s - loss: 0.5103 - accuracy: 0.8545\n"
          ],
          "name": "stdout"
        },
        {
          "output_type": "display_data",
          "data": {
            "image/png": "[encoded data removed]",
            "text/plain": [
              "<Figure size 432x288 with 1 Axes>"
            ]
          },
          "metadata": {
            "tags": [],
            "needs_background": "light"
          }
        }
      ]
    },
    {
      "cell_type": "code",
      "metadata": {
        "colab": {
          "base_uri": "https://localhost:8080/"
        },
        "id": "uhTBbLhqg_Jy",
        "outputId": "e8bd6a61-52d0-4b6a-ed08-1c8106d7e141"
      },
      "source": [
        "print(test_acc)"
      ],
      "execution_count": 10,
      "outputs": [
        {
          "output_type": "stream",
          "text": [
            "0.8544999957084656\n"
          ],
          "name": "stdout"
        }
      ]
    },
    {
      "cell_type": "code",
      "metadata": {
        "colab": {
          "base_uri": "https://localhost:8080/"
        },
        "id": "7B5XiVRTp0vh",
        "outputId": "250ab0c1-bbf0-448e-c910-30cb24ee4102"
      },
      "source": [
        "model.save('C:/CIFAR/Mobley_model.h5') \r\n",
        "\r\n",
        "new_model = tf.keras.models.load_model('C:/CIFAR/Mobley_model.h5') \r\n",
        "\r\n",
        "new_model.summary() \r\n",
        "\r\n",
        "new_model.evaluate(test_images, test_labels, verbose=2) \r\n"
      ],
      "execution_count": 13,
      "outputs": [
        {
          "output_type": "stream",
          "text": [
            "Model: \"sequential\"\n",
            "_________________________________________________________________\n",
            "Layer (type)                 Output Shape              Param #   \n",
            "=================================================================\n",
            "conv2d (Conv2D)              (None, 32, 32, 256)       7168      \n",
            "_________________________________________________________________\n",
            "batch_normalization (BatchNo (None, 32, 32, 256)       1024      \n",
            "_________________________________________________________________\n",
            "conv2d_1 (Conv2D)            (None, 32, 32, 256)       590080    \n",
            "_________________________________________________________________\n",
            "batch_normalization_1 (Batch (None, 32, 32, 256)       1024      \n",
            "_________________________________________________________________\n",
            "dropout (Dropout)            (None, 32, 32, 256)       0         \n",
            "_________________________________________________________________\n",
            "max_pooling2d (MaxPooling2D) (None, 16, 16, 256)       0         \n",
            "_________________________________________________________________\n",
            "conv2d_2 (Conv2D)            (None, 16, 16, 128)       295040    \n",
            "_________________________________________________________________\n",
            "batch_normalization_2 (Batch (None, 16, 16, 128)       512       \n",
            "_________________________________________________________________\n",
            "conv2d_3 (Conv2D)            (None, 16, 16, 128)       147584    \n",
            "_________________________________________________________________\n",
            "batch_normalization_3 (Batch (None, 16, 16, 128)       512       \n",
            "_________________________________________________________________\n",
            "dropout_1 (Dropout)          (None, 16, 16, 128)       0         \n",
            "_________________________________________________________________\n",
            "max_pooling2d_1 (MaxPooling2 (None, 8, 8, 128)         0         \n",
            "_________________________________________________________________\n",
            "conv2d_4 (Conv2D)            (None, 8, 8, 64)          73792     \n",
            "_________________________________________________________________\n",
            "batch_normalization_4 (Batch (None, 8, 8, 64)          256       \n",
            "_________________________________________________________________\n",
            "conv2d_5 (Conv2D)            (None, 8, 8, 64)          36928     \n",
            "_________________________________________________________________\n",
            "batch_normalization_5 (Batch (None, 8, 8, 64)          256       \n",
            "_________________________________________________________________\n",
            "dropout_2 (Dropout)          (None, 8, 8, 64)          0         \n",
            "_________________________________________________________________\n",
            "max_pooling2d_2 (MaxPooling2 (None, 4, 4, 64)          0         \n",
            "_________________________________________________________________\n",
            "conv2d_6 (Conv2D)            (None, 4, 4, 32)          18464     \n",
            "_________________________________________________________________\n",
            "batch_normalization_6 (Batch (None, 4, 4, 32)          128       \n",
            "_________________________________________________________________\n",
            "conv2d_7 (Conv2D)            (None, 4, 4, 32)          9248      \n",
            "_________________________________________________________________\n",
            "batch_normalization_7 (Batch (None, 4, 4, 32)          128       \n",
            "_________________________________________________________________\n",
            "dropout_3 (Dropout)          (None, 4, 4, 32)          0         \n",
            "_________________________________________________________________\n",
            "flatten (Flatten)            (None, 512)               0         \n",
            "_________________________________________________________________\n",
            "dense (Dense)                (None, 64)                32832     \n",
            "_________________________________________________________________\n",
            "batch_normalization_8 (Batch (None, 64)                256       \n",
            "_________________________________________________________________\n",
            "dense_1 (Dense)              (None, 32)                2080      \n",
            "_________________________________________________________________\n",
            "batch_normalization_9 (Batch (None, 32)                128       \n",
            "_________________________________________________________________\n",
            "dense_2 (Dense)              (None, 16)                528       \n",
            "_________________________________________________________________\n",
            "batch_normalization_10 (Batc (None, 16)                64        \n",
            "_________________________________________________________________\n",
            "dense_3 (Dense)              (None, 10)                170       \n",
            "_________________________________________________________________\n",
            "dropout_4 (Dropout)          (None, 10)                0         \n",
            "=================================================================\n",
            "Total params: 1,218,202\n",
            "Trainable params: 1,216,058\n",
            "Non-trainable params: 2,144\n",
            "_________________________________________________________________\n",
            "313/313 - 3s - loss: 0.5103 - accuracy: 0.8545\n"
          ],
          "name": "stdout"
        },
        {
          "output_type": "execute_result",
          "data": {
            "text/plain": [
              "[0.5102857947349548, 0.8544999957084656]"
            ]
          },
          "metadata": {
            "tags": []
          },
          "execution_count": 13
        }
      ]
    }
  ]
}